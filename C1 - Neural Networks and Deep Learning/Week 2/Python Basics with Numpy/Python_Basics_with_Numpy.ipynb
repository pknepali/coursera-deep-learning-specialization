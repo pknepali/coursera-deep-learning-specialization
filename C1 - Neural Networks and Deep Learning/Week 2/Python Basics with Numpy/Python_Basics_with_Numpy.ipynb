{
  "nbformat": 4,
  "nbformat_minor": 0,
  "metadata": {
    "colab": {
      "provenance": []
    },
    "kernelspec": {
      "name": "python3",
      "display_name": "Python 3"
    },
    "language_info": {
      "name": "python"
    }
  },
  "cells": [
    {
      "cell_type": "code",
      "execution_count": null,
      "metadata": {
        "id": "f-EAnZd0W0Ly"
      },
      "outputs": [],
      "source": []
    },
    {
      "cell_type": "markdown",
      "source": [
        "**bold text**# New Section"
      ],
      "metadata": {
        "id": "_Q36oHj6XBac"
      }
    },
    {
      "cell_type": "markdown",
      "source": [
        "# New Section"
      ],
      "metadata": {
        "id": "uyjmut_fqzUF"
      }
    },
    {
      "cell_type": "code",
      "source": [
        "### START CODE HERE ### (≈ 1 line of code)\n",
        "test = \"Hello World\"\n",
        "### END CODE HERE ###"
      ],
      "metadata": {
        "id": "AxquJUUpo4wO"
      },
      "execution_count": null,
      "outputs": []
    },
    {
      "cell_type": "code",
      "source": [
        "test"
      ],
      "metadata": {
        "colab": {
          "base_uri": "https://localhost:8080/",
          "height": 35
        },
        "id": "cq1FhMHKomhW",
        "outputId": "854feab7-fe63-4555-8ee4-bd673598d22b"
      },
      "execution_count": null,
      "outputs": [
        {
          "output_type": "execute_result",
          "data": {
            "text/plain": [
              "'Hello World'"
            ],
            "application/vnd.google.colaboratory.intrinsic+json": {
              "type": "string"
            }
          },
          "metadata": {},
          "execution_count": 2
        }
      ]
    },
    {
      "cell_type": "code",
      "source": [
        "#is this saved in github\n",
        "#testing again\n",
        "\n",
        "#another test"
      ],
      "metadata": {
        "id": "xulMtTOFo6NJ"
      },
      "execution_count": null,
      "outputs": []
    },
    {
      "cell_type": "code",
      "source": [
        "import numpy as np"
      ],
      "metadata": {
        "id": "1SHKR_ddwFeg"
      },
      "execution_count": 1,
      "outputs": []
    },
    {
      "cell_type": "code",
      "source": [
        "a = np.random.randn(2,3)\n",
        "b = np.random.randn(2,1)\n",
        "a\n",
        "b"
      ],
      "metadata": {
        "colab": {
          "base_uri": "https://localhost:8080/"
        },
        "id": "_SuF2F14wGcC",
        "outputId": "c1274fd5-9095-4734-8717-0ee4e2db6620"
      },
      "execution_count": 2,
      "outputs": [
        {
          "output_type": "execute_result",
          "data": {
            "text/plain": [
              "array([[ 1.42350211],\n",
              "       [-1.50914057]])"
            ]
          },
          "metadata": {},
          "execution_count": 2
        }
      ]
    },
    {
      "cell_type": "code",
      "source": [
        "a"
      ],
      "metadata": {
        "colab": {
          "base_uri": "https://localhost:8080/"
        },
        "id": "rETDLjn4xBCQ",
        "outputId": "38664dda-8c70-4be8-a705-c0d8e5cdf7c9"
      },
      "execution_count": 3,
      "outputs": [
        {
          "output_type": "execute_result",
          "data": {
            "text/plain": [
              "array([[-0.2888944 , -0.1801103 , -0.20946359],\n",
              "       [-0.31451526, -0.0533656 , -0.20959242]])"
            ]
          },
          "metadata": {},
          "execution_count": 3
        }
      ]
    },
    {
      "cell_type": "code",
      "source": [
        "b"
      ],
      "metadata": {
        "colab": {
          "base_uri": "https://localhost:8080/"
        },
        "id": "NtfD_toqxDyx",
        "outputId": "c8e0f5f8-e9cd-4a59-d8c8-3c842c7e5936"
      },
      "execution_count": 4,
      "outputs": [
        {
          "output_type": "execute_result",
          "data": {
            "text/plain": [
              "array([[ 1.42350211],\n",
              "       [-1.50914057]])"
            ]
          },
          "metadata": {},
          "execution_count": 4
        }
      ]
    },
    {
      "cell_type": "code",
      "source": [
        "a.dtype"
      ],
      "metadata": {
        "colab": {
          "base_uri": "https://localhost:8080/"
        },
        "id": "BDpnTBjRxJbR",
        "outputId": "fee70d1e-bb95-4a36-8f90-a1db0a8ca67d"
      },
      "execution_count": 5,
      "outputs": [
        {
          "output_type": "execute_result",
          "data": {
            "text/plain": [
              "dtype('float64')"
            ]
          },
          "metadata": {},
          "execution_count": 5
        }
      ]
    },
    {
      "cell_type": "code",
      "source": [
        "c = a + b"
      ],
      "metadata": {
        "id": "ZwW5w0y2xOPO"
      },
      "execution_count": 6,
      "outputs": []
    },
    {
      "cell_type": "code",
      "source": [
        "c"
      ],
      "metadata": {
        "colab": {
          "base_uri": "https://localhost:8080/"
        },
        "id": "ympEDYAuxSYW",
        "outputId": "466e4d3c-a96d-4e8c-b434-5e79489bb469"
      },
      "execution_count": 7,
      "outputs": [
        {
          "output_type": "execute_result",
          "data": {
            "text/plain": [
              "array([[ 1.1346077 ,  1.2433918 ,  1.21403852],\n",
              "       [-1.82365583, -1.56250617, -1.71873299]])"
            ]
          },
          "metadata": {},
          "execution_count": 7
        }
      ]
    },
    {
      "cell_type": "markdown",
      "source": [
        "**Exercise**: Build a function that returns the sigmoid of a real number x. Use math.exp(x) for the exponential function."
      ],
      "metadata": {
        "id": "sDWkAFojOsBT"
      }
    },
    {
      "cell_type": "code",
      "source": [
        "import math\n",
        "\n",
        "def basic_sigmoid(x):\n",
        "  return 1/(1 + math.exp(-x))"
      ],
      "metadata": {
        "id": "vaTWnlvLODcr"
      },
      "execution_count": 2,
      "outputs": []
    },
    {
      "cell_type": "code",
      "source": [
        "basic_sigmoid(3)"
      ],
      "metadata": {
        "colab": {
          "base_uri": "https://localhost:8080/"
        },
        "id": "aS8FGJliPScB",
        "outputId": "a98520ed-04ec-41dd-9f64-3de3d5daf190"
      },
      "execution_count": 3,
      "outputs": [
        {
          "output_type": "execute_result",
          "data": {
            "text/plain": [
              "0.9525741268224334"
            ]
          },
          "metadata": {},
          "execution_count": 3
        }
      ]
    },
    {
      "cell_type": "code",
      "source": [],
      "metadata": {
        "id": "IR0ihTtHPWF8"
      },
      "execution_count": 6,
      "outputs": []
    },
    {
      "cell_type": "markdown",
      "source": [
        "basic_sigmoid([1,2,3])\n",
        "\n",
        "TypeError                                 Traceback (most recent call last)\n",
        "<ipython-input-4-287735b76f00> in <cell line: 1>()\n",
        "----> 1 basic_sigmoid([1,2,3])\n",
        "\n",
        "<ipython-input-2-12730319b136> in basic_sigmoid(x)\n",
        "      2\n",
        "      3 def basic_sigmoid(x):\n",
        "----> 4   return 1/(1 + math.exp(-x))\n",
        "\n",
        "TypeError: bad operand type for unary -: 'list'\n"
      ],
      "metadata": {
        "id": "IidrU5DPPzyS"
      }
    },
    {
      "cell_type": "code",
      "source": [],
      "metadata": {
        "id": "doKZcrcrP5eo"
      },
      "execution_count": null,
      "outputs": []
    },
    {
      "cell_type": "code",
      "source": [
        "import numpy as np\n",
        "\n",
        "x = np.array([1,2,3])\n",
        "x"
      ],
      "metadata": {
        "colab": {
          "base_uri": "https://localhost:8080/"
        },
        "id": "Ca4n1yo9PdjY",
        "outputId": "7ab8ce48-f400-4bd9-ce30-fa5eeba86241"
      },
      "execution_count": 6,
      "outputs": [
        {
          "output_type": "execute_result",
          "data": {
            "text/plain": [
              "array([1, 2, 3])"
            ]
          },
          "metadata": {},
          "execution_count": 6
        }
      ]
    },
    {
      "cell_type": "code",
      "source": [
        "def numpy_sigmoid(x):\n",
        "  return 1/(1 + np.exp(-x))"
      ],
      "metadata": {
        "id": "TYnqdCUvPpUF"
      },
      "execution_count": 7,
      "outputs": []
    },
    {
      "cell_type": "code",
      "source": [
        "numpy_sigmoid(np.array([1,2,3]))"
      ],
      "metadata": {
        "colab": {
          "base_uri": "https://localhost:8080/"
        },
        "id": "QUd-Ro0aQCQM",
        "outputId": "6fb1aa94-0b9f-417a-cc83-a233bdac8aca"
      },
      "execution_count": 12,
      "outputs": [
        {
          "output_type": "execute_result",
          "data": {
            "text/plain": [
              "array([0.73105858, 0.88079708, 0.95257413])"
            ]
          },
          "metadata": {},
          "execution_count": 12
        }
      ]
    },
    {
      "cell_type": "code",
      "source": [
        "def sigmoid_derivative(x):\n",
        "  return numpy_sigmoid(x)*(1-numpy_sigmoid(x))"
      ],
      "metadata": {
        "id": "39ZruTJxQExC"
      },
      "execution_count": 13,
      "outputs": []
    },
    {
      "cell_type": "code",
      "source": [
        "sigmoid_derivative(np.array([1,2,3]))"
      ],
      "metadata": {
        "colab": {
          "base_uri": "https://localhost:8080/"
        },
        "id": "SJCbFVMGQ85T",
        "outputId": "4be6971c-f2d0-4aff-b37d-908a22bcdc5d"
      },
      "execution_count": 14,
      "outputs": [
        {
          "output_type": "execute_result",
          "data": {
            "text/plain": [
              "array([0.19661193, 0.10499359, 0.04517666])"
            ]
          },
          "metadata": {},
          "execution_count": 14
        }
      ]
    },
    {
      "cell_type": "code",
      "source": [
        "a = np.random.rand(2,3,4)"
      ],
      "metadata": {
        "id": "pvE3JxxoSpIj"
      },
      "execution_count": 15,
      "outputs": []
    },
    {
      "cell_type": "code",
      "source": [
        "a.shape"
      ],
      "metadata": {
        "colab": {
          "base_uri": "https://localhost:8080/"
        },
        "id": "Q6qRilfBSvQd",
        "outputId": "2206ade6-8b81-41b3-eba3-79931de3d997"
      },
      "execution_count": 16,
      "outputs": [
        {
          "output_type": "execute_result",
          "data": {
            "text/plain": [
              "(2, 3, 4)"
            ]
          },
          "metadata": {},
          "execution_count": 16
        }
      ]
    },
    {
      "cell_type": "code",
      "source": [
        "len(a)"
      ],
      "metadata": {
        "colab": {
          "base_uri": "https://localhost:8080/"
        },
        "id": "1XPm34caSwuE",
        "outputId": "5b21cf6c-a363-41df-a758-6f77d0276c28"
      },
      "execution_count": 19,
      "outputs": [
        {
          "output_type": "execute_result",
          "data": {
            "text/plain": [
              "2"
            ]
          },
          "metadata": {},
          "execution_count": 19
        }
      ]
    },
    {
      "cell_type": "code",
      "source": [
        "a.ndim"
      ],
      "metadata": {
        "colab": {
          "base_uri": "https://localhost:8080/"
        },
        "id": "59lFtYcZSziP",
        "outputId": "0d6a4268-9a06-4916-e134-b788c8d67596"
      },
      "execution_count": 20,
      "outputs": [
        {
          "output_type": "execute_result",
          "data": {
            "text/plain": [
              "3"
            ]
          },
          "metadata": {},
          "execution_count": 20
        }
      ]
    },
    {
      "cell_type": "code",
      "source": [
        "a.shape[0], a.shape[1], a.shape[2]"
      ],
      "metadata": {
        "colab": {
          "base_uri": "https://localhost:8080/"
        },
        "id": "rH2BnRJhTJ-Z",
        "outputId": "7b51014a-0147-4a3f-aa20-304bef1ad6c4"
      },
      "execution_count": 23,
      "outputs": [
        {
          "output_type": "execute_result",
          "data": {
            "text/plain": [
              "(2, 3, 4)"
            ]
          },
          "metadata": {},
          "execution_count": 23
        }
      ]
    },
    {
      "cell_type": "code",
      "source": [
        "a.ndim"
      ],
      "metadata": {
        "colab": {
          "base_uri": "https://localhost:8080/"
        },
        "id": "ZTWWU0GXTQ7Q",
        "outputId": "c4170457-7725-4159-d7b4-e66ffafe4bc1"
      },
      "execution_count": 24,
      "outputs": [
        {
          "output_type": "execute_result",
          "data": {
            "text/plain": [
              "3"
            ]
          },
          "metadata": {},
          "execution_count": 24
        }
      ]
    },
    {
      "cell_type": "code",
      "source": [
        "def image2vector(image):\n",
        "  return image.reshape(image.shape[0]*image.shape[1]*image.shape[2],1)\n"
      ],
      "metadata": {
        "id": "WxWgVOtCTYc1"
      },
      "execution_count": 25,
      "outputs": []
    },
    {
      "cell_type": "code",
      "source": [
        "a = np.array([1,2,3], ndmin=2)"
      ],
      "metadata": {
        "id": "lL9GTI2ITtDU"
      },
      "execution_count": 26,
      "outputs": []
    },
    {
      "cell_type": "code",
      "source": [
        "a"
      ],
      "metadata": {
        "colab": {
          "base_uri": "https://localhost:8080/"
        },
        "id": "9Gls2BnpT96F",
        "outputId": "c8b27a00-4bab-42a7-9cb8-49b63515e1e7"
      },
      "execution_count": 27,
      "outputs": [
        {
          "output_type": "execute_result",
          "data": {
            "text/plain": [
              "array([[1, 2, 3]])"
            ]
          },
          "metadata": {},
          "execution_count": 27
        }
      ]
    },
    {
      "cell_type": "code",
      "source": [
        "b = np.random.rand(2,3,4)"
      ],
      "metadata": {
        "id": "KyG36lp8T-Qr"
      },
      "execution_count": 28,
      "outputs": []
    },
    {
      "cell_type": "code",
      "source": [
        "b"
      ],
      "metadata": {
        "colab": {
          "base_uri": "https://localhost:8080/"
        },
        "id": "oR7pzGy7UEMD",
        "outputId": "fc4a197b-68e9-4732-9298-437c455dcba8"
      },
      "execution_count": 29,
      "outputs": [
        {
          "output_type": "execute_result",
          "data": {
            "text/plain": [
              "array([[[0.58009645, 0.87740049, 0.2053493 , 0.95812683],\n",
              "        [0.17321477, 0.57228184, 0.27167129, 0.29022633],\n",
              "        [0.39170196, 0.05919643, 0.77472122, 0.03526844]],\n",
              "\n",
              "       [[0.80229703, 0.32264425, 0.97962916, 0.3618756 ],\n",
              "        [0.43068446, 0.009022  , 0.25090631, 0.13836306],\n",
              "        [0.213055  , 0.49312005, 0.28858371, 0.17125122]]])"
            ]
          },
          "metadata": {},
          "execution_count": 29
        }
      ]
    },
    {
      "cell_type": "code",
      "source": [
        "image2vector(b)"
      ],
      "metadata": {
        "colab": {
          "base_uri": "https://localhost:8080/"
        },
        "id": "2eosBoYoUEz_",
        "outputId": "2199940b-006d-4ea7-8804-df76f3c52ae0"
      },
      "execution_count": 30,
      "outputs": [
        {
          "output_type": "execute_result",
          "data": {
            "text/plain": [
              "array([[0.58009645],\n",
              "       [0.87740049],\n",
              "       [0.2053493 ],\n",
              "       [0.95812683],\n",
              "       [0.17321477],\n",
              "       [0.57228184],\n",
              "       [0.27167129],\n",
              "       [0.29022633],\n",
              "       [0.39170196],\n",
              "       [0.05919643],\n",
              "       [0.77472122],\n",
              "       [0.03526844],\n",
              "       [0.80229703],\n",
              "       [0.32264425],\n",
              "       [0.97962916],\n",
              "       [0.3618756 ],\n",
              "       [0.43068446],\n",
              "       [0.009022  ],\n",
              "       [0.25090631],\n",
              "       [0.13836306],\n",
              "       [0.213055  ],\n",
              "       [0.49312005],\n",
              "       [0.28858371],\n",
              "       [0.17125122]])"
            ]
          },
          "metadata": {},
          "execution_count": 30
        }
      ]
    },
    {
      "cell_type": "code",
      "source": [
        "image = np.array([[[ 0.67826139,  0.29380381],\n",
        "        [ 0.90714982,  0.52835647],\n",
        "        [ 0.4215251 ,  0.45017551]],\n",
        "\n",
        "       [[ 0.92814219,  0.96677647],\n",
        "        [ 0.85304703,  0.52351845],\n",
        "        [ 0.19981397,  0.27417313]],\n",
        "\n",
        "       [[ 0.60659855,  0.00533165],\n",
        "        [ 0.10820313,  0.49978937],\n",
        "        [ 0.34144279,  0.94630077]]])\n"
      ],
      "metadata": {
        "id": "4gHb7oxlUOiD"
      },
      "execution_count": 31,
      "outputs": []
    },
    {
      "cell_type": "code",
      "source": [
        "b = image2vector(image)"
      ],
      "metadata": {
        "id": "7fw6jX_2UaCt"
      },
      "execution_count": 33,
      "outputs": []
    },
    {
      "cell_type": "code",
      "source": [
        "b.shape"
      ],
      "metadata": {
        "colab": {
          "base_uri": "https://localhost:8080/"
        },
        "id": "ktvRlr5tUbi6",
        "outputId": "fec092c0-b862-4897-d776-4d7f9db506fb"
      },
      "execution_count": 34,
      "outputs": [
        {
          "output_type": "execute_result",
          "data": {
            "text/plain": [
              "(18, 1)"
            ]
          },
          "metadata": {},
          "execution_count": 34
        }
      ]
    },
    {
      "cell_type": "code",
      "source": [
        "b[0]"
      ],
      "metadata": {
        "colab": {
          "base_uri": "https://localhost:8080/"
        },
        "id": "cNlSZPNuU2Ku",
        "outputId": "89130088-9c68-4d7c-819f-1bca7a21aab2"
      },
      "execution_count": 35,
      "outputs": [
        {
          "output_type": "execute_result",
          "data": {
            "text/plain": [
              "array([0.67826139])"
            ]
          },
          "metadata": {},
          "execution_count": 35
        }
      ]
    },
    {
      "cell_type": "code",
      "source": [
        "b[0][0]"
      ],
      "metadata": {
        "colab": {
          "base_uri": "https://localhost:8080/"
        },
        "id": "n-y3-UGtU51V",
        "outputId": "0e497c92-5ec1-41ae-ede8-812824f31654"
      },
      "execution_count": 36,
      "outputs": [
        {
          "output_type": "execute_result",
          "data": {
            "text/plain": [
              "0.67826139"
            ]
          },
          "metadata": {},
          "execution_count": 36
        }
      ]
    },
    {
      "cell_type": "code",
      "source": [
        "def normalieRows(x):\n",
        "  x_norm = np.linalg.norm(x, axis=1, keepdims=True)\n",
        "  print(x_norm.shape)\n",
        "  print(x_norm)\n",
        "  x = x/x_norm\n",
        "  return x"
      ],
      "metadata": {
        "id": "uOJYwOVDU-B0"
      },
      "execution_count": 51,
      "outputs": []
    },
    {
      "cell_type": "code",
      "source": [
        "x = np.array([\n",
        "    [0, 3, 4],\n",
        "    [1, 6, 4]])"
      ],
      "metadata": {
        "id": "oagzMJS0WBYW"
      },
      "execution_count": 52,
      "outputs": []
    },
    {
      "cell_type": "code",
      "source": [
        "normalieRows(x)"
      ],
      "metadata": {
        "colab": {
          "base_uri": "https://localhost:8080/"
        },
        "id": "4Y8HCsbSWJDj",
        "outputId": "964f155b-c2b9-4afd-8c8b-a9fe94438905"
      },
      "execution_count": 53,
      "outputs": [
        {
          "output_type": "stream",
          "name": "stdout",
          "text": [
            "(2, 1)\n",
            "[[5.        ]\n",
            " [7.28010989]]\n"
          ]
        },
        {
          "output_type": "execute_result",
          "data": {
            "text/plain": [
              "array([[0.        , 0.6       , 0.8       ],\n",
              "       [0.13736056, 0.82416338, 0.54944226]])"
            ]
          },
          "metadata": {},
          "execution_count": 53
        }
      ]
    },
    {
      "cell_type": "code",
      "source": [
        "x.shape"
      ],
      "metadata": {
        "colab": {
          "base_uri": "https://localhost:8080/"
        },
        "id": "mpOSzNPoWKb7",
        "outputId": "48c9166d-ab79-4dc6-d378-3c0152ef23db"
      },
      "execution_count": 50,
      "outputs": [
        {
          "output_type": "execute_result",
          "data": {
            "text/plain": [
              "(2, 3)"
            ]
          },
          "metadata": {},
          "execution_count": 50
        }
      ]
    },
    {
      "cell_type": "code",
      "source": [
        "a = np.array([1,2,3])\n",
        "b = np.exp(a)\n",
        "b"
      ],
      "metadata": {
        "colab": {
          "base_uri": "https://localhost:8080/"
        },
        "id": "NGnHeTXvWqVp",
        "outputId": "23240cd6-7639-41a9-c46c-a4288bb31e10"
      },
      "execution_count": 54,
      "outputs": [
        {
          "output_type": "execute_result",
          "data": {
            "text/plain": [
              "array([ 2.71828183,  7.3890561 , 20.08553692])"
            ]
          },
          "metadata": {},
          "execution_count": 54
        }
      ]
    },
    {
      "cell_type": "code",
      "source": [
        "a = np.random.randint(10, size=(2,3))\n"
      ],
      "metadata": {
        "id": "cKd4qyivXqKS"
      },
      "execution_count": 68,
      "outputs": []
    },
    {
      "cell_type": "code",
      "source": [
        "a"
      ],
      "metadata": {
        "colab": {
          "base_uri": "https://localhost:8080/"
        },
        "id": "9trrisNgYAHQ",
        "outputId": "d99b0cf9-d711-4370-be17-56f2b69fa62e"
      },
      "execution_count": 69,
      "outputs": [
        {
          "output_type": "execute_result",
          "data": {
            "text/plain": [
              "array([[4, 5, 0],\n",
              "       [2, 9, 1]])"
            ]
          },
          "metadata": {},
          "execution_count": 69
        }
      ]
    },
    {
      "cell_type": "code",
      "source": [
        "b = np.exp(a)\n",
        "b"
      ],
      "metadata": {
        "colab": {
          "base_uri": "https://localhost:8080/"
        },
        "id": "gYD3mI8zYaFo",
        "outputId": "84ace8e8-99e6-4b6b-b693-ef127887d5bd"
      },
      "execution_count": 70,
      "outputs": [
        {
          "output_type": "execute_result",
          "data": {
            "text/plain": [
              "array([[5.45981500e+01, 1.48413159e+02, 1.00000000e+00],\n",
              "       [7.38905610e+00, 8.10308393e+03, 2.71828183e+00]])"
            ]
          },
          "metadata": {},
          "execution_count": 70
        }
      ]
    },
    {
      "cell_type": "code",
      "source": [
        "c = np.sum(a, axis=0, keepdims=True)\n",
        "c"
      ],
      "metadata": {
        "colab": {
          "base_uri": "https://localhost:8080/"
        },
        "id": "2fnJcormYhuy",
        "outputId": "1f33600f-0e3b-433a-fd8d-9dc47e1bda19"
      },
      "execution_count": 74,
      "outputs": [
        {
          "output_type": "execute_result",
          "data": {
            "text/plain": [
              "array([[ 6, 14,  1]])"
            ]
          },
          "metadata": {},
          "execution_count": 74
        }
      ]
    },
    {
      "cell_type": "code",
      "source": [
        "d = np.sum(a, axis=1, keepdims=True)\n",
        "d"
      ],
      "metadata": {
        "colab": {
          "base_uri": "https://localhost:8080/"
        },
        "id": "3jvgJ-TeYpOT",
        "outputId": "040b3893-82fd-495d-dcc3-01667b41107f"
      },
      "execution_count": 75,
      "outputs": [
        {
          "output_type": "execute_result",
          "data": {
            "text/plain": [
              "array([[ 9],\n",
              "       [12]])"
            ]
          },
          "metadata": {},
          "execution_count": 75
        }
      ]
    },
    {
      "cell_type": "code",
      "source": [
        "c.shape"
      ],
      "metadata": {
        "colab": {
          "base_uri": "https://localhost:8080/"
        },
        "id": "NNvfxY08Y0rn",
        "outputId": "44469cf1-1d89-43e6-9a55-94cb3f36e9b8"
      },
      "execution_count": 76,
      "outputs": [
        {
          "output_type": "execute_result",
          "data": {
            "text/plain": [
              "(1, 3)"
            ]
          },
          "metadata": {},
          "execution_count": 76
        }
      ]
    },
    {
      "cell_type": "code",
      "source": [
        "c[0]"
      ],
      "metadata": {
        "colab": {
          "base_uri": "https://localhost:8080/"
        },
        "id": "dyxdPHyTZyBD",
        "outputId": "3a983d97-c3bf-4ad2-999e-f2722b267f1f"
      },
      "execution_count": 77,
      "outputs": [
        {
          "output_type": "execute_result",
          "data": {
            "text/plain": [
              "array([ 6, 14,  1])"
            ]
          },
          "metadata": {},
          "execution_count": 77
        }
      ]
    },
    {
      "cell_type": "code",
      "source": [],
      "metadata": {
        "id": "l94DpjLOZ3Ot"
      },
      "execution_count": 78,
      "outputs": []
    },
    {
      "cell_type": "code",
      "source": [
        "def softmax(x):\n",
        "  x_exp = np.exp(x)\n",
        "  x_sum_exp = np.sum(x_exp, axis=1, keepdims=True)\n",
        "  sm = x_exp/x_sum_exp\n",
        "  return sm"
      ],
      "metadata": {
        "id": "Qc_v3QoiZ4CT"
      },
      "execution_count": 80,
      "outputs": []
    },
    {
      "cell_type": "code",
      "source": [
        "x = np.array([\n",
        "    [9, 2, 5, 0, 0],\n",
        "    [7, 5, 0, 0 ,0]])\n",
        "y_hat = softmax(x)"
      ],
      "metadata": {
        "id": "ehIRiRIzaiAJ"
      },
      "execution_count": 82,
      "outputs": []
    },
    {
      "cell_type": "code",
      "source": [
        "y_hat"
      ],
      "metadata": {
        "colab": {
          "base_uri": "https://localhost:8080/"
        },
        "id": "QBbdTyIQanV8",
        "outputId": "db3be034-a20b-4059-b8b4-0a6d98cdb481"
      },
      "execution_count": 83,
      "outputs": [
        {
          "output_type": "execute_result",
          "data": {
            "text/plain": [
              "array([[9.80897665e-01, 8.94462891e-04, 1.79657674e-02, 1.21052389e-04,\n",
              "        1.21052389e-04],\n",
              "       [8.78679856e-01, 1.18916387e-01, 8.01252314e-04, 8.01252314e-04,\n",
              "        8.01252314e-04]])"
            ]
          },
          "metadata": {},
          "execution_count": 83
        }
      ]
    },
    {
      "cell_type": "code",
      "source": [
        "y_hat.sum(axis=1, keepdims=True)"
      ],
      "metadata": {
        "colab": {
          "base_uri": "https://localhost:8080/"
        },
        "id": "z9HQ3BpIatz_",
        "outputId": "7c3ff60f-efbb-4458-e2b9-05039ada085b"
      },
      "execution_count": 84,
      "outputs": [
        {
          "output_type": "execute_result",
          "data": {
            "text/plain": [
              "array([[1.],\n",
              "       [1.]])"
            ]
          },
          "metadata": {},
          "execution_count": 84
        }
      ]
    },
    {
      "cell_type": "code",
      "source": [
        "a = np.random.randint(10, size=(2,3))"
      ],
      "metadata": {
        "id": "wG4vziXRawnw"
      },
      "execution_count": 85,
      "outputs": []
    },
    {
      "cell_type": "code",
      "source": [
        "b = np.random.randint(10, size=(2,3))"
      ],
      "metadata": {
        "id": "3ru7xFW3bhw1"
      },
      "execution_count": 86,
      "outputs": []
    },
    {
      "cell_type": "code",
      "source": [
        "a\n"
      ],
      "metadata": {
        "colab": {
          "base_uri": "https://localhost:8080/"
        },
        "id": "agtD5WVkblAU",
        "outputId": "758c7fe3-1b60-44cd-b021-1bd583a24491"
      },
      "execution_count": 87,
      "outputs": [
        {
          "output_type": "execute_result",
          "data": {
            "text/plain": [
              "array([[9, 7, 1],\n",
              "       [7, 9, 2]])"
            ]
          },
          "metadata": {},
          "execution_count": 87
        }
      ]
    },
    {
      "cell_type": "code",
      "source": [
        "b"
      ],
      "metadata": {
        "colab": {
          "base_uri": "https://localhost:8080/"
        },
        "id": "a2MhySRAblud",
        "outputId": "a7fa99bf-b821-4a52-c6ec-ab4a6ad255dc"
      },
      "execution_count": 88,
      "outputs": [
        {
          "output_type": "execute_result",
          "data": {
            "text/plain": [
              "array([[1, 1, 9],\n",
              "       [4, 1, 9]])"
            ]
          },
          "metadata": {},
          "execution_count": 88
        }
      ]
    },
    {
      "cell_type": "code",
      "source": [
        "dot = np.dot(a,b.T)"
      ],
      "metadata": {
        "id": "TW3R3H1nbmzJ"
      },
      "execution_count": 90,
      "outputs": []
    },
    {
      "cell_type": "code",
      "source": [
        "dot"
      ],
      "metadata": {
        "colab": {
          "base_uri": "https://localhost:8080/"
        },
        "id": "bcnjI8bIbuNy",
        "outputId": "66aa8770-2ae6-454c-8acd-22d8430453bd"
      },
      "execution_count": 91,
      "outputs": [
        {
          "output_type": "execute_result",
          "data": {
            "text/plain": [
              "array([[25, 52],\n",
              "       [34, 55]])"
            ]
          },
          "metadata": {},
          "execution_count": 91
        }
      ]
    },
    {
      "cell_type": "code",
      "source": [
        "sum(a)"
      ],
      "metadata": {
        "colab": {
          "base_uri": "https://localhost:8080/"
        },
        "id": "XbYRDGg-by_A",
        "outputId": "2a070cc3-c1d1-4de2-ac56-7f2b07c7705a"
      },
      "execution_count": 92,
      "outputs": [
        {
          "output_type": "execute_result",
          "data": {
            "text/plain": [
              "array([16, 16,  3])"
            ]
          },
          "metadata": {},
          "execution_count": 92
        }
      ]
    },
    {
      "cell_type": "code",
      "source": [
        "a - b"
      ],
      "metadata": {
        "colab": {
          "base_uri": "https://localhost:8080/"
        },
        "id": "qTlKcQThcX7u",
        "outputId": "e5670622-516d-4b7f-9095-014dedb586d7"
      },
      "execution_count": 93,
      "outputs": [
        {
          "output_type": "execute_result",
          "data": {
            "text/plain": [
              "array([[ 8,  6, -8],\n",
              "       [ 3,  8, -7]])"
            ]
          },
          "metadata": {},
          "execution_count": 93
        }
      ]
    },
    {
      "cell_type": "code",
      "source": [
        "a = np.random.randint(10, size=(10,2))"
      ],
      "metadata": {
        "id": "twngUULJcg6T"
      },
      "execution_count": 105,
      "outputs": []
    },
    {
      "cell_type": "code",
      "source": [],
      "metadata": {
        "id": "MT8E3oWvdnv6"
      },
      "execution_count": null,
      "outputs": []
    },
    {
      "cell_type": "code",
      "source": [
        "a"
      ],
      "metadata": {
        "colab": {
          "base_uri": "https://localhost:8080/"
        },
        "id": "bzfjXqODc3jf",
        "outputId": "7b775dce-4912-4766-c947-21129c1d85b2"
      },
      "execution_count": 106,
      "outputs": [
        {
          "output_type": "execute_result",
          "data": {
            "text/plain": [
              "array([[7, 4],\n",
              "       [7, 2],\n",
              "       [2, 7],\n",
              "       [7, 0],\n",
              "       [5, 3],\n",
              "       [2, 6],\n",
              "       [9, 0],\n",
              "       [8, 0],\n",
              "       [4, 8],\n",
              "       [8, 4]])"
            ]
          },
          "metadata": {},
          "execution_count": 106
        }
      ]
    },
    {
      "cell_type": "code",
      "source": [
        "b = np.random.randint(10, size=(10,2))"
      ],
      "metadata": {
        "id": "9BaD15xuc8pn"
      },
      "execution_count": 107,
      "outputs": []
    },
    {
      "cell_type": "code",
      "source": [
        "b"
      ],
      "metadata": {
        "colab": {
          "base_uri": "https://localhost:8080/"
        },
        "id": "oh_IQuqcdAlN",
        "outputId": "40564f28-fa66-4193-9b6f-3d60e8449196"
      },
      "execution_count": 108,
      "outputs": [
        {
          "output_type": "execute_result",
          "data": {
            "text/plain": [
              "array([[1, 2],\n",
              "       [6, 2],\n",
              "       [9, 0],\n",
              "       [3, 5],\n",
              "       [7, 5],\n",
              "       [4, 8],\n",
              "       [1, 9],\n",
              "       [6, 6],\n",
              "       [9, 3],\n",
              "       [1, 2]])"
            ]
          },
          "metadata": {},
          "execution_count": 108
        }
      ]
    },
    {
      "cell_type": "code",
      "source": [
        "c = a - b\n",
        "c"
      ],
      "metadata": {
        "colab": {
          "base_uri": "https://localhost:8080/"
        },
        "id": "QSzyQsGrdBCV",
        "outputId": "f65ab9c1-13c5-4a6a-8b52-b162265ec225"
      },
      "execution_count": 109,
      "outputs": [
        {
          "output_type": "execute_result",
          "data": {
            "text/plain": [
              "array([[ 6,  2],\n",
              "       [ 1,  0],\n",
              "       [-7,  7],\n",
              "       [ 4, -5],\n",
              "       [-2, -2],\n",
              "       [-2, -2],\n",
              "       [ 8, -9],\n",
              "       [ 2, -6],\n",
              "       [-5,  5],\n",
              "       [ 7,  2]])"
            ]
          },
          "metadata": {},
          "execution_count": 109
        }
      ]
    },
    {
      "cell_type": "code",
      "source": [
        "abs(c)"
      ],
      "metadata": {
        "colab": {
          "base_uri": "https://localhost:8080/"
        },
        "id": "pW2E3pi8dGTr",
        "outputId": "0460b554-23d2-445f-ecc5-3f48bcb64dc5"
      },
      "execution_count": 110,
      "outputs": [
        {
          "output_type": "execute_result",
          "data": {
            "text/plain": [
              "array([[6, 2],\n",
              "       [1, 0],\n",
              "       [7, 7],\n",
              "       [4, 5],\n",
              "       [2, 2],\n",
              "       [2, 2],\n",
              "       [8, 9],\n",
              "       [2, 6],\n",
              "       [5, 5],\n",
              "       [7, 2]])"
            ]
          },
          "metadata": {},
          "execution_count": 110
        }
      ]
    },
    {
      "cell_type": "code",
      "source": [
        "sum(abs(c))"
      ],
      "metadata": {
        "colab": {
          "base_uri": "https://localhost:8080/"
        },
        "id": "-8blZiAudLMs",
        "outputId": "c4f80050-eaf4-4a7d-e728-39d6271847cb"
      },
      "execution_count": 111,
      "outputs": [
        {
          "output_type": "execute_result",
          "data": {
            "text/plain": [
              "array([44, 40])"
            ]
          },
          "metadata": {},
          "execution_count": 111
        }
      ]
    },
    {
      "cell_type": "code",
      "source": [
        "np.sum(abs(c), axis=1)"
      ],
      "metadata": {
        "colab": {
          "base_uri": "https://localhost:8080/"
        },
        "id": "DRcc7-XedQDR",
        "outputId": "e891c0a8-e341-4757-8a8d-09d200580f2c"
      },
      "execution_count": 116,
      "outputs": [
        {
          "output_type": "execute_result",
          "data": {
            "text/plain": [
              "array([ 8,  1, 14,  9,  4,  4, 17,  8, 10,  9])"
            ]
          },
          "metadata": {},
          "execution_count": 116
        }
      ]
    },
    {
      "cell_type": "code",
      "source": [
        "def L1(yhat, y):\n",
        "  return np.sum(abs(yhat - y))\n"
      ],
      "metadata": {
        "id": "RmMLRnB9d2IY"
      },
      "execution_count": 117,
      "outputs": []
    },
    {
      "cell_type": "code",
      "source": [
        "yhat = np.array([.9, 0.2, 0.1, .4, .9])\n",
        "y = np.array([1, 0, 0, 1, 1])\n",
        "print(\"L1 = \" + str(L1(yhat,y)))"
      ],
      "metadata": {
        "colab": {
          "base_uri": "https://localhost:8080/"
        },
        "id": "P4O-Z2yQeNWf",
        "outputId": "522f0360-8c06-4db8-b4ef-466db9453da7"
      },
      "execution_count": 118,
      "outputs": [
        {
          "output_type": "stream",
          "name": "stdout",
          "text": [
            "L1 = 1.1\n"
          ]
        }
      ]
    },
    {
      "cell_type": "code",
      "source": [
        "def L2(yhat,y):\n",
        "    return np.sum((yhat - y) ** 2)\n"
      ],
      "metadata": {
        "id": "h4vif0nneQUI"
      },
      "execution_count": 119,
      "outputs": []
    },
    {
      "cell_type": "code",
      "source": [
        "yhat = np.array([.9, 0.2, 0.1, .4, .9])\n",
        "y = np.array([1, 0, 0, 1, 1])\n",
        "print(\"L2 = \" + str(L2(yhat,y)))"
      ],
      "metadata": {
        "colab": {
          "base_uri": "https://localhost:8080/"
        },
        "id": "bKkRjz7wep1l",
        "outputId": "6b94bc28-2065-4b38-bbdb-d9ffe42672b7"
      },
      "execution_count": 120,
      "outputs": [
        {
          "output_type": "stream",
          "name": "stdout",
          "text": [
            "L2 = 0.43\n"
          ]
        }
      ]
    },
    {
      "cell_type": "code",
      "source": [
        "a = np.array([1,2,3,4,5])\n",
        "b = np.array([1,2,3,4,5])\n",
        "np.dot(a,b)"
      ],
      "metadata": {
        "colab": {
          "base_uri": "https://localhost:8080/"
        },
        "id": "1OlWrLXgeskG",
        "outputId": "2708c3db-cee5-4f32-d4d4-360a4c89e97c"
      },
      "execution_count": 121,
      "outputs": [
        {
          "output_type": "execute_result",
          "data": {
            "text/plain": [
              "55"
            ]
          },
          "metadata": {},
          "execution_count": 121
        }
      ]
    },
    {
      "cell_type": "code",
      "source": [
        "np.dot(a,b.T)"
      ],
      "metadata": {
        "colab": {
          "base_uri": "https://localhost:8080/"
        },
        "id": "uE81mcKze_b1",
        "outputId": "e713f45a-3182-46b2-b8eb-22d609726082"
      },
      "execution_count": 122,
      "outputs": [
        {
          "output_type": "execute_result",
          "data": {
            "text/plain": [
              "55"
            ]
          },
          "metadata": {},
          "execution_count": 122
        }
      ]
    },
    {
      "cell_type": "code",
      "source": [],
      "metadata": {
        "id": "VxPqqr3TfCeO"
      },
      "execution_count": null,
      "outputs": []
    }
  ]
}