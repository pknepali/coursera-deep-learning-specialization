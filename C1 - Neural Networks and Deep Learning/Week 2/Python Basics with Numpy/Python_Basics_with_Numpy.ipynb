{
  "nbformat": 4,
  "nbformat_minor": 0,
  "metadata": {
    "colab": {
      "provenance": [],
      "mount_file_id": "1wyGiqfVbIsDxAyce-p5zSv_SMsey18Jr",
      "authorship_tag": "ABX9TyP7ELL+UY4FT0T60eTWWWM6",
      "include_colab_link": true
    },
    "kernelspec": {
      "name": "python3",
      "display_name": "Python 3"
    },
    "language_info": {
      "name": "python"
    }
  },
  "cells": [
    {
      "cell_type": "markdown",
      "metadata": {
        "id": "view-in-github",
        "colab_type": "text"
      },
      "source": [
        "<a href=\"https://colab.research.google.com/github/pknepali/coursera-deep-learning-specialization/blob/main/C1%20-%20Neural%20Networks%20and%20Deep%20Learning/Week%202/Python%20Basics%20with%20Numpy/Python_Basics_with_Numpy.ipynb\" target=\"_parent\"><img src=\"https://colab.research.google.com/assets/colab-badge.svg\" alt=\"Open In Colab\"/></a>"
      ]
    },
    {
      "cell_type": "code",
      "execution_count": null,
      "metadata": {
        "id": "f-EAnZd0W0Ly"
      },
      "outputs": [],
      "source": []
    },
    {
      "cell_type": "markdown",
      "source": [
        "# New Section"
      ],
      "metadata": {
        "id": "_Q36oHj6XBac"
      }
    },
    {
      "cell_type": "code",
      "source": [
        "### START CODE HERE ### (≈ 1 line of code)\n",
        "test = \"Hello World\"\n",
        "### END CODE HERE ###"
      ],
      "metadata": {
        "id": "AxquJUUpo4wO"
      },
      "execution_count": null,
      "outputs": []
    },
    {
      "cell_type": "code",
      "source": [
        "test"
      ],
      "metadata": {
        "colab": {
          "base_uri": "https://localhost:8080/",
          "height": 35
        },
        "id": "cq1FhMHKomhW",
        "outputId": "854feab7-fe63-4555-8ee4-bd673598d22b"
      },
      "execution_count": null,
      "outputs": [
        {
          "output_type": "execute_result",
          "data": {
            "text/plain": [
              "'Hello World'"
            ],
            "application/vnd.google.colaboratory.intrinsic+json": {
              "type": "string"
            }
          },
          "metadata": {},
          "execution_count": 2
        }
      ]
    },
    {
      "cell_type": "code",
      "source": [
        "#testing"
      ],
      "metadata": {
        "id": "xulMtTOFo6NJ"
      },
      "execution_count": null,
      "outputs": []
    }
  ]
}